{
  "nbformat": 4,
  "nbformat_minor": 0,
  "metadata": {
    "colab": {
      "name": "Mulitplication.ipynb",
      "provenance": [],
      "collapsed_sections": []
    },
    "kernelspec": {
      "name": "python3",
      "display_name": "Python 3"
    },
    "language_info": {
      "name": "python"
    }
  },
  "cells": [
    {
      "cell_type": "code",
      "metadata": {
        "id": "o0DBLBT3uNKX"
      },
      "source": [
        "from __future__ import print_function"
      ],
      "execution_count": null,
      "outputs": []
    },
    {
      "cell_type": "code",
      "metadata": {
        "colab": {
          "base_uri": "https://localhost:8080/"
        },
        "id": "TLjVNS8IuWif",
        "outputId": "91984e98-4f79-4ae8-f80e-99cd7d31b075"
      },
      "source": [
        "import tensorflow as tf\n",
        "tf.compat.v1.disable_v2_behavior()\n",
        "tf.compat.v1.disable_eager_execution()\n",
        "\n",
        "a= tf.constant(2)\n",
        "b= tf.constant(3)\n",
        "\n",
        "with tf.compat.v1.Session() as sess:\n",
        "  print(\"a=2, b=3\")\n",
        "  print(\"Addition with constants: %i\" % sess.run(a+b))\n",
        "  print(\"Multiplicaton with constants: %i\" % sess.run(a*b))\n",
        "\n",
        "a= tf.compat.v1.placeholder(tf.int16)\n",
        "b= tf.compat.v1.placeholder(tf.int16)\n",
        "\n",
        "add = tf.add(a,b)\n",
        "mul = tf.multiply(a,b)\n",
        "\n",
        "\n",
        "with tf.compat.v1.Session() as sess:\n",
        "   print(\"Addition with variables: %i\" % sess.run(add, feed_dict={a:2, b:3}))\n",
        "   print(\"Multiplication with variables: %i\" % sess.run(mul, feed_dict={a:2, b:3}))\n",
        "\n",
        "matrix1 = tf.constant([[3.,3.]])\n",
        "matrix2 = tf.constant([[2.],[2.]])\n",
        "\n",
        "product = tf.matmul(matrix1, matrix2)\n",
        "\n",
        "with tf.compat.v1.Session() as sess:\n",
        "  result =sess.run(product)\n",
        "  print(result)\n",
        "#[[12.]]\n",
        "\n",
        "\n",
        "\n"
      ],
      "execution_count": null,
      "outputs": [
        {
          "output_type": "stream",
          "name": "stdout",
          "text": [
            "WARNING:tensorflow:From /usr/local/lib/python3.7/dist-packages/tensorflow/python/compat/v2_compat.py:101: disable_resource_variables (from tensorflow.python.ops.variable_scope) is deprecated and will be removed in a future version.\n",
            "Instructions for updating:\n",
            "non-resource variables are not supported in the long term\n",
            "a=2, b=3\n",
            "Addition with constants: 5\n",
            "Multiplicaton with constants: 6\n",
            "Addition with variables: 5\n",
            "Multiplication with variables: 6\n",
            "[[12.]]\n"
          ]
        }
      ]
    },
    {
      "cell_type": "code",
      "metadata": {
        "id": "NxKmlz6Jvngh"
      },
      "source": [
        ""
      ],
      "execution_count": null,
      "outputs": []
    }
  ]
}